{
  "nbformat": 4,
  "nbformat_minor": 0,
  "metadata": {
    "colab": {
      "provenance": []
    },
    "kernelspec": {
      "name": "python3",
      "display_name": "Python 3"
    },
    "language_info": {
      "name": "python"
    }
  },
  "cells": [
    {
      "cell_type": "markdown",
      "source": [
        "## BAGGING CLASSIFIER"
      ],
      "metadata": {
        "id": "t6KPHgGeY9pn"
      }
    },
    {
      "cell_type": "markdown",
      "source": [
        "### Bagging Classifier Sebelum SMOTE"
      ],
      "metadata": {
        "id": "J2PrWdg7eSjE"
      }
    },
    {
      "cell_type": "code",
      "source": [
        "!pip install pymysql sqlalchemy imbalanced-learn\n",
        "\n",
        "import pandas as pd\n",
        "import matplotlib.pyplot as plt\n",
        "import numpy as np\n",
        "from sklearn.decomposition import PCA\n",
        "from sqlalchemy import create_engine\n",
        "from collections import Counter\n",
        "from imblearn.over_sampling import SMOTE\n",
        "\n",
        "# === 1. Koneksi ke database MySQL ===\n",
        "host = \"mysql-28cb1d4c-yotanalvintobing-psd.d.aivencloud.com\"\n",
        "port = 25478\n",
        "user = \"avnadmin\"\n",
        "password = \"AVNS_e3Tzp6XE6YCGJ7fV9ku\"\n",
        "database = \"defaultdb\"\n",
        "\n",
        "engine = create_engine(f\"mysql+pymysql://{user}:{password}@{host}:{port}/{database}\")\n",
        "\n",
        "# === 2. Ambil dataset ===\n",
        "query = \"SELECT * FROM ecoli;\"\n",
        "df = pd.read_sql(query, engine)\n",
        "\n",
        "print(\"Jumlah baris:\", len(df))\n",
        "print(df.head())\n",
        "\n",
        "# === 3. Pisahkan fitur dan label ===\n",
        "X = df[[f\"feature{i}\" for i in range(1, 8)]].values\n",
        "y = df[\"class_label\"].values\n",
        "\n",
        "\n",
        "# === 5. Balancing dengan SMOTE (lebih stabil) ===\n",
        "min_class_size = min(Counter(y).values())\n",
        "n_neighbors = max(1, min_class_size - 1)\n",
        "\n",
        "smote = SMOTE(random_state=42, k_neighbors=n_neighbors)\n",
        "X_res, y_res = smote.fit_resample(X, y)\n",
        "\n",
        "\n"
      ],
      "metadata": {
        "colab": {
          "base_uri": "https://localhost:8080/"
        },
        "id": "_jFncRmzwb3b",
        "outputId": "e8c23744-bc24-4f86-c4d5-57447e5bd4b9"
      },
      "execution_count": 89,
      "outputs": [
        {
          "output_type": "stream",
          "name": "stdout",
          "text": [
            "Requirement already satisfied: pymysql in /usr/local/lib/python3.12/dist-packages (1.1.2)\n",
            "Requirement already satisfied: sqlalchemy in /usr/local/lib/python3.12/dist-packages (2.0.43)\n",
            "Requirement already satisfied: imbalanced-learn in /usr/local/lib/python3.12/dist-packages (0.14.0)\n",
            "Requirement already satisfied: greenlet>=1 in /usr/local/lib/python3.12/dist-packages (from sqlalchemy) (3.2.4)\n",
            "Requirement already satisfied: typing-extensions>=4.6.0 in /usr/local/lib/python3.12/dist-packages (from sqlalchemy) (4.15.0)\n",
            "Requirement already satisfied: numpy<3,>=1.25.2 in /usr/local/lib/python3.12/dist-packages (from imbalanced-learn) (2.0.2)\n",
            "Requirement already satisfied: scipy<2,>=1.11.4 in /usr/local/lib/python3.12/dist-packages (from imbalanced-learn) (1.16.2)\n",
            "Requirement already satisfied: scikit-learn<2,>=1.4.2 in /usr/local/lib/python3.12/dist-packages (from imbalanced-learn) (1.6.1)\n",
            "Requirement already satisfied: joblib<2,>=1.2.0 in /usr/local/lib/python3.12/dist-packages (from imbalanced-learn) (1.5.2)\n",
            "Requirement already satisfied: threadpoolctl<4,>=2.0.0 in /usr/local/lib/python3.12/dist-packages (from imbalanced-learn) (3.6.0)\n",
            "Jumlah baris: 336\n",
            "   id_protein  feature1  feature2  feature3  feature4  feature5  feature6  \\\n",
            "0   AAS_ECOLI      0.44      0.52      0.48       0.5      0.43      0.47   \n",
            "1   AAT_ECOLI      0.49      0.29      0.48       0.5      0.56      0.24   \n",
            "2  ACEA_ECOLI      0.07      0.40      0.48       0.5      0.54      0.35   \n",
            "3  ACEK_ECOLI      0.56      0.40      0.48       0.5      0.49      0.37   \n",
            "4  ACKA_ECOLI      0.59      0.49      0.48       0.5      0.52      0.45   \n",
            "\n",
            "   feature7 class_label  \n",
            "0      0.54          im  \n",
            "1      0.35          cp  \n",
            "2      0.44          cp  \n",
            "3      0.46          cp  \n",
            "4      0.36          cp  \n"
          ]
        }
      ]
    },
    {
      "cell_type": "code",
      "source": [
        "# ===============================\n",
        "# 1. Library Import\n",
        "# ===============================\n",
        "import numpy as np\n",
        "from collections import Counter\n",
        "from sklearn.model_selection import train_test_split\n",
        "from sklearn.ensemble import RandomForestClassifier\n",
        "from sklearn.metrics import accuracy_score, classification_report, confusion_matrix, precision_score, recall_score, f1_score\n",
        "from imblearn.over_sampling import SMOTE\n",
        "import pandas as pd\n",
        "\n",
        "# ===============================\n",
        "# 2. Cek distribusi kelas sebelum SMOTE\n",
        "# ===============================\n",
        "print(\"Distribusi kelas sebelum balancing:\", Counter(y))\n",
        "\n",
        "# Tentukan n_neighbors untuk SMOTE\n",
        "min_class_size = min(Counter(y).values())\n",
        "n_neighbors = max(1, min_class_size - 1)\n",
        "print(f\"Gunakan n_neighbors = {n_neighbors}\")\n",
        "\n",
        "# ===============================\n",
        "# 3. Balancing dengan SMOTE\n",
        "# ===============================\n",
        "smote = SMOTE(random_state=42, k_neighbors=n_neighbors)\n",
        "X_res, y_res = smote.fit_resample(X, y)\n",
        "print(\"Distribusi kelas setelah balancing:\", Counter(y_res))\n",
        "\n",
        "# ===============================\n",
        "# 4. Split Train-Test\n",
        "# ===============================\n",
        "# Data asli\n",
        "X_train_ori, X_test_ori, y_train_ori, y_test_ori = train_test_split(\n",
        "    X, y, test_size=0.3, random_state=42, stratify=y\n",
        ")\n",
        "\n",
        "\n",
        "# ===============================\n",
        "# 5. Klasifikasi Random Forest\n",
        "# ===============================\n",
        "# Data asli\n",
        "rf_ori = RandomForestClassifier(n_estimators=100, random_state=42)\n",
        "rf_ori.fit(X_train_ori, y_train_ori)\n",
        "y_pred_ori = rf_ori.predict(X_test_ori)\n",
        "\n",
        "\n",
        "# ===============================\n",
        "# 6. Hitung metric\n",
        "# ===============================\n",
        "metrics_ori = {\n",
        "    \"Accuracy\": accuracy_score(y_test_ori, y_pred_ori),\n",
        "    \"Precision (macro)\": precision_score(y_test_ori, y_pred_ori, average=\"macro\"),\n",
        "    \"Recall (macro)\": recall_score(y_test_ori, y_pred_ori, average=\"macro\"),\n",
        "    \"F1-score (macro)\": f1_score(y_test_ori, y_pred_ori, average=\"macro\")\n",
        "}\n",
        "\n",
        "\n",
        "# ===============================\n",
        "# 7. Buat tabel perbandingan\n",
        "# ===============================\n",
        "results = pd.DataFrame({\n",
        "    \"Metric\": list(metrics_ori.keys()),\n",
        "    \"Sebelum SMOTE\": list(metrics_ori.values())\n",
        "})\n",
        "\n",
        "print(\"\\n=== Perbandingan Random Forest Sebelum dan Sesudah SMOTE ===\")\n",
        "print(results)\n"
      ],
      "metadata": {
        "colab": {
          "base_uri": "https://localhost:8080/"
        },
        "id": "-aKs4_BIvKky",
        "outputId": "ec2c4813-7c09-4e64-eb5e-ea0bdfcfe240"
      },
      "execution_count": 93,
      "outputs": [
        {
          "output_type": "stream",
          "name": "stdout",
          "text": [
            "Distribusi kelas sebelum balancing: Counter({'cp': 143, 'im': 77, 'pp': 52, 'imU': 35, 'om': 20, 'omL': 5, 'imS': 2, 'imL': 2})\n",
            "Gunakan n_neighbors = 1\n",
            "Distribusi kelas setelah balancing: Counter({'im': 143, 'cp': 143, 'pp': 143, 'imU': 143, 'imS': 143, 'om': 143, 'imL': 143, 'omL': 143})\n",
            "\n",
            "=== Perbandingan Random Forest Sebelum dan Sesudah SMOTE ===\n",
            "              Metric  Sebelum SMOTE\n",
            "0           Accuracy       0.861386\n",
            "1  Precision (macro)       0.661615\n",
            "2     Recall (macro)       0.624547\n",
            "3   F1-score (macro)       0.636830\n"
          ]
        },
        {
          "output_type": "stream",
          "name": "stderr",
          "text": [
            "/usr/local/lib/python3.12/dist-packages/sklearn/metrics/_classification.py:1565: UndefinedMetricWarning: Precision is ill-defined and being set to 0.0 in labels with no predicted samples. Use `zero_division` parameter to control this behavior.\n",
            "  _warn_prf(average, modifier, f\"{metric.capitalize()} is\", len(result))\n"
          ]
        }
      ]
    },
    {
      "cell_type": "markdown",
      "source": [
        "### Bagging Classifier sesudah smote\n"
      ],
      "metadata": {
        "id": "Wl903sDBwwnt"
      }
    },
    {
      "cell_type": "code",
      "source": [
        "# Data setelah SMOTE\n",
        "X_train_bal, X_test_bal, y_train_bal, y_test_bal = train_test_split(\n",
        "    X_res, y_res, test_size=0.3, random_state=42, stratify=y_res\n",
        ")\n",
        "\n",
        "# Data setelah SMOTE\n",
        "rf_bal = RandomForestClassifier(n_estimators=100, random_state=42)\n",
        "rf_bal.fit(X_train_bal, y_train_bal)\n",
        "y_pred_bal = rf_bal.predict(X_test_bal)\n",
        "\n",
        "metrics_bal = {\n",
        "    \"Accuracy\": accuracy_score(y_test_bal, y_pred_bal),\n",
        "    \"Precision (macro)\": precision_score(y_test_bal, y_pred_bal, average=\"macro\"),\n",
        "    \"Recall (macro)\": recall_score(y_test_bal, y_pred_bal, average=\"macro\"),\n",
        "    \"F1-score (macro)\": f1_score(y_test_bal, y_pred_bal, average=\"macro\")\n",
        "}\n",
        "\n",
        "results = pd.DataFrame({\n",
        "    \"Metric\": list(metrics_ori.keys()),\n",
        "    \"Setelah SMOTE\": list(metrics_bal.values())\n",
        "})\n",
        "\n",
        "print(\"\\n=== Perbandingan Random Forest Sebelum dan Sesudah SMOTE ===\")\n",
        "print(results)\n",
        "\n"
      ],
      "metadata": {
        "colab": {
          "base_uri": "https://localhost:8080/"
        },
        "id": "n4Zt0V-7xHUs",
        "outputId": "4355d0fc-3bf3-4a4c-f25a-ae5d1e4c98ea"
      },
      "execution_count": 98,
      "outputs": [
        {
          "output_type": "stream",
          "name": "stdout",
          "text": [
            "\n",
            "=== Perbandingan Random Forest Sebelum dan Sesudah SMOTE ===\n",
            "              Metric  Setelah SMOTE\n",
            "0           Accuracy       0.962209\n",
            "1  Precision (macro)       0.963676\n",
            "2     Recall (macro)       0.962209\n",
            "3   F1-score (macro)       0.962126\n"
          ]
        }
      ]
    },
    {
      "cell_type": "markdown",
      "source": [
        "### Perbandingan Sebelum dan sesudah SMOTE"
      ],
      "metadata": {
        "id": "NN65AAmgykep"
      }
    },
    {
      "cell_type": "code",
      "source": [
        "# ===============================\n",
        "# 1. Library Import\n",
        "# ===============================\n",
        "import numpy as np\n",
        "from collections import Counter\n",
        "import pandas as pd\n",
        "import matplotlib.pyplot as plt\n",
        "from sklearn.model_selection import train_test_split\n",
        "from sklearn.ensemble import BaggingClassifier\n",
        "from sklearn.metrics import accuracy_score, precision_score, recall_score, f1_score\n",
        "from imblearn.over_sampling import SMOTE\n",
        "\n",
        "# ===============================\n",
        "# 2. Cek distribusi kelas sebelum SMOTE\n",
        "# ===============================\n",
        "print(\"Distribusi kelas sebelum balancing:\", Counter(y))\n",
        "\n",
        "# Tentukan n_neighbors untuk SMOTE\n",
        "min_class_size = min(Counter(y).values())\n",
        "n_neighbors = max(1, min_class_size - 1)\n",
        "print(f\"Gunakan n_neighbors = {n_neighbors}\")\n",
        "\n",
        "# ===============================\n",
        "# 3. Balancing dengan SMOTE\n",
        "# ===============================\n",
        "smote = SMOTE(random_state=42, k_neighbors=n_neighbors)\n",
        "X_res, y_res = smote.fit_resample(X, y)\n",
        "print(\"Distribusi kelas setelah balancing:\", Counter(y_res))\n",
        "\n",
        "# ===============================\n",
        "# 4. Split Train-Test\n",
        "# ===============================\n",
        "# Data asli\n",
        "X_train_ori, X_test_ori, y_train_ori, y_test_ori = train_test_split(\n",
        "    X, y, test_size=0.3, random_state=42, stratify=y\n",
        ")\n",
        "\n",
        "# Data setelah SMOTE\n",
        "X_train_bal, X_test_bal, y_train_bal, y_test_bal = train_test_split(\n",
        "    X_res, y_res, test_size=0.3, random_state=42, stratify=y_res\n",
        ")\n",
        "\n",
        "# ===============================\n",
        "# 5. Train BaggingClassifier\n",
        "# ===============================\n",
        "# Data asli\n",
        "bag_ori = BaggingClassifier(n_estimators=100, random_state=42)\n",
        "bag_ori.fit(X_train_ori, y_train_ori)\n",
        "y_pred_ori = bag_ori.predict(X_test_ori)\n",
        "\n",
        "# Data setelah SMOTE\n",
        "bag_bal = BaggingClassifier(n_estimators=100, random_state=42)\n",
        "bag_bal.fit(X_train_bal, y_train_bal)\n",
        "y_pred_bal = bag_bal.predict(X_test_bal)\n",
        "\n",
        "# ===============================\n",
        "# 6. Hitung metric\n",
        "# ===============================\n",
        "metrics_ori = {\n",
        "    \"Accuracy\": accuracy_score(y_test_ori, y_pred_ori),\n",
        "    \"Precision (macro)\": precision_score(y_test_ori, y_pred_ori, average=\"macro\"),\n",
        "    \"Recall (macro)\": recall_score(y_test_ori, y_pred_ori, average=\"macro\"),\n",
        "    \"F1-score (macro)\": f1_score(y_test_ori, y_pred_ori, average=\"macro\")\n",
        "}\n",
        "\n",
        "metrics_bal = {\n",
        "    \"Accuracy\": accuracy_score(y_test_bal, y_pred_bal),\n",
        "    \"Precision (macro)\": precision_score(y_test_bal, y_pred_bal, average=\"macro\"),\n",
        "    \"Recall (macro)\": recall_score(y_test_bal, y_pred_bal, average=\"macro\"),\n",
        "    \"F1-score (macro)\": f1_score(y_test_bal, y_pred_bal, average=\"macro\")\n",
        "}\n",
        "\n",
        "# ===============================\n",
        "# 7. Buat tabel perbandingan\n",
        "# ===============================\n",
        "results = pd.DataFrame({\n",
        "    \"Metric\": list(metrics_ori.keys()),\n",
        "    \"Sebelum SMOTE\": list(metrics_ori.values()),\n",
        "    \"Sesudah SMOTE\": list(metrics_bal.values())\n",
        "})\n",
        "\n",
        "print(\"\\n=== Tabel Perbandingan Sebelum & Sesudah SMOTE ===\")\n",
        "print(results)\n",
        "\n",
        "# ===============================\n",
        "# 8. Visualisasi Bar Chart\n",
        "# ===============================\n",
        "fig, ax = plt.subplots(figsize=(10,6))\n",
        "bar_width = 0.35\n",
        "index = np.arange(len(results))\n",
        "\n",
        "ax.bar(index, results[\"Sebelum SMOTE\"], bar_width, label=\"Sebelum SMOTE\", color=\"skyblue\")\n",
        "ax.bar(index + bar_width, results[\"Sesudah SMOTE\"], bar_width, label=\"Sesudah SMOTE\", color=\"salmon\")\n",
        "\n",
        "ax.set_xlabel(\"Metric\")\n",
        "ax.set_ylabel(\"Score\")\n",
        "ax.set_title(\"Perbandingan Performansi BaggingClassifier Sebelum & Sesudah SMOTE\")\n",
        "ax.set_xticks(index + bar_width / 2)\n",
        "ax.set_xticklabels(results[\"Metric\"])\n",
        "ax.set_ylim(0, 1.1)  # Skala 0-1\n",
        "ax.legend()\n",
        "plt.tight_layout()\n",
        "plt.show()\n"
      ],
      "metadata": {
        "colab": {
          "base_uri": "https://localhost:8080/",
          "height": 835
        },
        "id": "Fc9WpungyqTj",
        "outputId": "12e122fe-ce37-4987-ed7d-fbf265194bf7"
      },
      "execution_count": 99,
      "outputs": [
        {
          "output_type": "stream",
          "name": "stdout",
          "text": [
            "Distribusi kelas sebelum balancing: Counter({'cp': 143, 'im': 77, 'pp': 52, 'imU': 35, 'om': 20, 'omL': 5, 'imS': 2, 'imL': 2})\n",
            "Gunakan n_neighbors = 1\n",
            "Distribusi kelas setelah balancing: Counter({'im': 143, 'cp': 143, 'pp': 143, 'imU': 143, 'imS': 143, 'om': 143, 'imL': 143, 'omL': 143})\n",
            "\n",
            "=== Tabel Perbandingan Sebelum & Sesudah SMOTE ===\n",
            "              Metric  Sebelum SMOTE  Sesudah SMOTE\n",
            "0           Accuracy       0.841584       0.950581\n",
            "1  Precision (macro)       0.640134       0.952832\n",
            "2     Recall (macro)       0.604235       0.950581\n",
            "3   F1-score (macro)       0.615055       0.950433\n"
          ]
        },
        {
          "output_type": "stream",
          "name": "stderr",
          "text": [
            "/usr/local/lib/python3.12/dist-packages/sklearn/metrics/_classification.py:1565: UndefinedMetricWarning: Precision is ill-defined and being set to 0.0 in labels with no predicted samples. Use `zero_division` parameter to control this behavior.\n",
            "  _warn_prf(average, modifier, f\"{metric.capitalize()} is\", len(result))\n"
          ]
        },
        {
          "output_type": "display_data",
          "data": {
            "text/plain": [
              "<Figure size 1000x600 with 1 Axes>"
            ],
            "image/png": "[encoded data removed]"
          },
          "metadata": {}
        }
      ]
    },
    {
      "cell_type": "markdown",
      "source": [
        "### Perbandingan Seluruh Model Clasifier"
      ],
      "metadata": {
        "id": "UtKWmGdVzDr8"
      }
    },
    {
      "cell_type": "code",
      "source": [
        "# ===============================\n",
        "# 1. Library Import\n",
        "# ===============================\n",
        "import pandas as pd\n",
        "import numpy as np\n",
        "from collections import Counter\n",
        "from sklearn.model_selection import train_test_split\n",
        "from sklearn.naive_bayes import GaussianNB\n",
        "from sklearn.ensemble import RandomForestClassifier, BaggingClassifier\n",
        "from sklearn.metrics import accuracy_score\n",
        "from imblearn.over_sampling import SMOTE\n",
        "import matplotlib.pyplot as plt\n",
        "\n",
        "# ===============================\n",
        "# 2. SMOTE (balancing data)\n",
        "# ===============================\n",
        "min_class_size = min(Counter(y).values())\n",
        "n_neighbors = max(1, min_class_size - 1)\n",
        "smote = SMOTE(random_state=42, k_neighbors=n_neighbors)\n",
        "X_res, y_res = smote.fit_resample(X, y)\n",
        "\n",
        "# ===============================\n",
        "# 3. Split Train-Test\n",
        "# ===============================\n",
        "X_train_ori, X_test_ori, y_train_ori, y_test_ori = train_test_split(\n",
        "    X, y, test_size=0.3, random_state=42, stratify=y\n",
        ")\n",
        "X_train_bal, X_test_bal, y_train_bal, y_test_bal = train_test_split(\n",
        "    X_res, y_res, test_size=0.3, random_state=42, stratify=y_res\n",
        ")\n",
        "\n",
        "# ===============================\n",
        "# 4. Train & Predict Naive Bayes\n",
        "# ===============================\n",
        "nb = GaussianNB()\n",
        "nb.fit(X_train_ori, y_train_ori)\n",
        "y_pred_nb_ori = nb.predict(X_test_ori)\n",
        "nb.fit(X_train_bal, y_train_bal)\n",
        "y_pred_nb_bal = nb.predict(X_test_bal)\n",
        "\n",
        "# ===============================\n",
        "# 5. Train & Predict Random Forest\n",
        "# ===============================\n",
        "rf = RandomForestClassifier(n_estimators=100, random_state=42)\n",
        "rf.fit(X_train_ori, y_train_ori)\n",
        "y_pred_rf_ori = rf.predict(X_test_ori)\n",
        "rf.fit(X_train_bal, y_train_bal)\n",
        "y_pred_rf_bal = rf.predict(X_test_bal)\n",
        "\n",
        "# ===============================\n",
        "# 6. Train & Predict BaggingClassifier\n",
        "# ===============================\n",
        "bag = BaggingClassifier(n_estimators=100, random_state=42)\n",
        "bag.fit(X_train_ori, y_train_ori)\n",
        "y_pred_bag_ori = bag.predict(X_test_ori)\n",
        "bag.fit(X_train_bal, y_train_bal)\n",
        "y_pred_bag_bal = bag.predict(X_test_bal)\n",
        "\n",
        "# ===============================\n",
        "# 7. Hitung akurasi\n",
        "# ===============================\n",
        "accuracy_data = {\n",
        "    \"Classifier\": [\"Naive Bayes\", \"Random Forest\", \"BaggingClassifier\"],\n",
        "    \"Sebelum SMOTE\": [\n",
        "        accuracy_score(y_test_ori, y_pred_nb_ori),\n",
        "        accuracy_score(y_test_ori, y_pred_rf_ori),\n",
        "        accuracy_score(y_test_ori, y_pred_bag_ori)\n",
        "    ],\n",
        "    \"Sesudah SMOTE\": [\n",
        "        accuracy_score(y_test_bal, y_pred_nb_bal),\n",
        "        accuracy_score(y_test_bal, y_pred_rf_bal),\n",
        "        accuracy_score(y_test_bal, y_pred_bag_bal)\n",
        "    ]\n",
        "}\n",
        "\n",
        "df_accuracy = pd.DataFrame(accuracy_data)\n",
        "print(df_accuracy)\n",
        "\n",
        "# ===============================\n",
        "# 8. Visualisasi Bar Chart\n",
        "# ===============================\n",
        "fig, ax = plt.subplots(figsize=(8,6))\n",
        "bar_width = 0.35\n",
        "index = np.arange(len(df_accuracy))\n",
        "\n",
        "ax.bar(index, df_accuracy[\"Sebelum SMOTE\"], bar_width, label=\"Sebelum SMOTE\", color=\"skyblue\")\n",
        "ax.bar(index + bar_width, df_accuracy[\"Sesudah SMOTE\"], bar_width, label=\"Sesudah SMOTE\", color=\"salmon\")\n",
        "\n",
        "ax.set_xlabel(\"Classifier\")\n",
        "ax.set_ylabel(\"Accuracy\")\n",
        "ax.set_title(\"Perbandingan Akurasi Classifier Sebelum & Sesudah SMOTE\")\n",
        "ax.set_xticks(index + bar_width / 2)\n",
        "ax.set_xticklabels(df_accuracy[\"Classifier\"])\n",
        "ax.set_ylim(0, 1.1)\n",
        "ax.legend()\n",
        "plt.tight_layout()\n",
        "plt.show()\n"
      ],
      "metadata": {
        "colab": {
          "base_uri": "https://localhost:8080/",
          "height": 676
        },
        "id": "FnXnffpjzH-M",
        "outputId": "78c2d4db-1ade-4f33-99a8-95c77694700d"
      },
      "execution_count": 100,
      "outputs": [
        {
          "output_type": "stream",
          "name": "stdout",
          "text": [
            "          Classifier  Sebelum SMOTE  Sesudah SMOTE\n",
            "0        Naive Bayes       0.831683       0.776163\n",
            "1      Random Forest       0.861386       0.962209\n",
            "2  BaggingClassifier       0.841584       0.950581\n"
          ]
        },
        {
          "output_type": "display_data",
          "data": {
            "text/plain": [
              "<Figure size 800x600 with 1 Axes>"
            ],
            "image/png": "[encoded data removed]"
          },
          "metadata": {}
        }
      ]
    }
  ]
}