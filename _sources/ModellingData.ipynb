{
  "nbformat": 4,
  "nbformat_minor": 0,
  "metadata": {
    "colab": {
      "provenance": []
    },
    "kernelspec": {
      "name": "python3",
      "display_name": "Python 3"
    },
    "language_info": {
      "name": "python"
    }
  },
  "cells": [
    {
      "cell_type": "markdown",
      "source": [
        "## Modelling Data NO2 Daerah Banyuwangi"
      ],
      "metadata": {
        "id": "_d9jw9_jbzwM"
      }
    },
    {
      "cell_type": "code",
      "execution_count": 1,
      "metadata": {
        "id": "qBhjSh06buYJ"
      },
      "outputs": [],
      "source": [
        "import pandas as pd\n",
        "import matplotlib.pyplot as plt\n",
        "import numpy as np\n",
        "from sklearn.model_selection import train_test_split\n",
        "from sklearn.neighbors import KNeighborsRegressor\n",
        "from sklearn.metrics import mean_squared_error, r2_score, mean_absolute_error\n",
        "from sklearn.preprocessing import StandardScaler"
      ]
    },
    {
      "cell_type": "markdown",
      "source": [
        "### Membaca Dataset Yang Udah Di Preprocessing"
      ],
      "metadata": {
        "id": "pUYY5MBecZQD"
      }
    },
    {
      "cell_type": "code",
      "source": [
        "day1 = pd.read_csv('day1_supervised.csv')\n",
        "day2 = pd.read_csv('day2_supervised.csv')\n",
        "day3 = pd.read_csv('day3_supervised.csv')\n",
        "day4 = pd.read_csv('day4_supervised.csv')\n",
        "day5 = pd.read_csv('day5_supervised.csv')"
      ],
      "metadata": {
        "id": "c1GC-LqIcjo6"
      },
      "execution_count": 2,
      "outputs": []
    },
    {
      "cell_type": "code",
      "source": [
        "X = day1.drop(columns=['NO2'])\n",
        "y = day1['NO2']\n",
        "\n",
        "# Train-test split\n",
        "X_train, X_test, y_train, y_test = train_test_split(X, y, test_size=0.2, random_state=42)\n",
        "\n",
        "# Normalization\n",
        "scaler = StandardScaler()\n",
        "X_train_scaled = scaler.fit_transform(X_train)\n",
        "X_test_scaled = scaler.transform(X_test)\n",
        "\n",
        "# KNN Regression\n",
        "knn = KNeighborsRegressor(n_neighbors=12)\n",
        "knn.fit(X_train_scaled, y_train)\n",
        "day1_predict = knn.predict(X_test_scaled)\n",
        "r2_day1 = r2_score(y_test, day1_predict)\n",
        "mse_day1 = mean_squared_error(y_test, day1_predict)\n",
        "mae_day1 = mean_absolute_error(y_test, day1_predict)\n",
        "\n",
        "print(\"MSE:\", mse_day1)\n",
        "print(\"MAE:\", mae_day1)\n",
        "print(\"R2:\", r2_day1)"
      ],
      "metadata": {
        "colab": {
          "base_uri": "https://localhost:8080/"
        },
        "id": "Z1Pxr36Ycs8L",
        "outputId": "62f4e7cf-9d5e-42c0-baa5-f09f957ae684"
      },
      "execution_count": 3,
      "outputs": [
        {
          "output_type": "stream",
          "name": "stdout",
          "text": [
            "MSE: 1.9688151684457194e-11\n",
            "MAE: 3.127186244692349e-06\n",
            "R2: 0.6235699176771392\n"
          ]
        }
      ]
    },
    {
      "cell_type": "code",
      "source": [
        "X = day2.drop(columns=['NO2'])\n",
        "y = day2['NO2']\n",
        "\n",
        "# Train-test split\n",
        "X_train, X_test, y_train, y_test = train_test_split(X, y, test_size=0.2, random_state=42)\n",
        "\n",
        "# Normalization\n",
        "scaler = StandardScaler()\n",
        "X_train_scaled = scaler.fit_transform(X_train)\n",
        "X_test_scaled = scaler.transform(X_test)\n",
        "\n",
        "# KNN Regression\n",
        "knn = KNeighborsRegressor(n_neighbors=12)\n",
        "knn.fit(X_train_scaled, y_train)\n",
        "day2_predict = knn.predict(X_test_scaled)\n",
        "r2_day2 = r2_score(y_test, day2_predict)\n",
        "mse_day2 = mean_squared_error(y_test, day2_predict)\n",
        "mae_day2 = mean_absolute_error(y_test, day2_predict)\n",
        "\n",
        "print(\"MSE:\", mse_day2)\n",
        "print(\"MAE:\", mae_day2)\n",
        "print(\"R2:\", r2_day2)"
      ],
      "metadata": {
        "colab": {
          "base_uri": "https://localhost:8080/"
        },
        "id": "wuD68xvocuh7",
        "outputId": "c748abe5-0117-41a3-b9e5-b0bc87c0c4d3"
      },
      "execution_count": 4,
      "outputs": [
        {
          "output_type": "stream",
          "name": "stdout",
          "text": [
            "MSE: 2.2725768965278195e-11\n",
            "MAE: 3.3286623222983728e-06\n",
            "R2: 0.5654918135762097\n"
          ]
        }
      ]
    },
    {
      "cell_type": "code",
      "source": [
        "X = day3.drop(columns=['NO2'])\n",
        "y = day3['NO2']\n",
        "\n",
        "# Train-test split\n",
        "X_train, X_test, y_train, y_test = train_test_split(X, y, test_size=0.2, random_state=42)\n",
        "\n",
        "# Normalization\n",
        "scaler = StandardScaler()\n",
        "X_train_scaled = scaler.fit_transform(X_train)\n",
        "X_test_scaled = scaler.transform(X_test)\n",
        "\n",
        "# KNN Regression\n",
        "knn = KNeighborsRegressor(n_neighbors=12)\n",
        "knn.fit(X_train_scaled, y_train)\n",
        "day3_predict = knn.predict(X_test_scaled)\n",
        "r2_day3 = r2_score(y_test, day3_predict)\n",
        "mse_day3 = mean_squared_error(y_test, day3_predict)\n",
        "mae_day3 = mean_absolute_error(y_test, day3_predict)\n",
        "\n",
        "print(\"MSE:\", mse_day3)\n",
        "print(\"MAE:\", mae_day3)\n",
        "print(\"R2:\", r2_day3)"
      ],
      "metadata": {
        "colab": {
          "base_uri": "https://localhost:8080/"
        },
        "id": "6LgrMZA4cv-b",
        "outputId": "a4b1ac19-f9af-40e9-d8df-a8271e9b1b50"
      },
      "execution_count": 5,
      "outputs": [
        {
          "output_type": "stream",
          "name": "stdout",
          "text": [
            "MSE: 3.53192886111758e-11\n",
            "MAE: 3.933085894063888e-06\n",
            "R2: 0.43843959436538693\n"
          ]
        }
      ]
    },
    {
      "cell_type": "code",
      "source": [
        "X = day4.drop(columns=['NO2'])\n",
        "y = day4['NO2']\n",
        "\n",
        "# Train-test split\n",
        "X_train, X_test, y_train, y_test = train_test_split(X, y, test_size=0.2, random_state=42)\n",
        "\n",
        "# Normalization\n",
        "scaler = StandardScaler()\n",
        "X_train_scaled = scaler.fit_transform(X_train)\n",
        "X_test_scaled = scaler.transform(X_test)\n",
        "\n",
        "# KNN Regression\n",
        "knn = KNeighborsRegressor(n_neighbors=12)\n",
        "knn.fit(X_train_scaled, y_train)\n",
        "day4_predict = knn.predict(X_test_scaled)\n",
        "r2_day4 = r2_score(y_test, day4_predict)\n",
        "mse_day4 = mean_squared_error(y_test, day4_predict)\n",
        "mae_day4 = mean_absolute_error(y_test, day4_predict)\n",
        "\n",
        "print(\"MSE:\", mse_day4)\n",
        "print(\"MAE:\", mae_day4)\n",
        "print(\"R2:\", r2_day4)"
      ],
      "metadata": {
        "colab": {
          "base_uri": "https://localhost:8080/"
        },
        "id": "R07Cb5x8cxiq",
        "outputId": "844a8e30-962e-426f-a946-9d8c95b9c03d"
      },
      "execution_count": 6,
      "outputs": [
        {
          "output_type": "stream",
          "name": "stdout",
          "text": [
            "MSE: 3.723102631422379e-11\n",
            "MAE: 3.7627823199268824e-06\n",
            "R2: 0.37162660121760327\n"
          ]
        }
      ]
    },
    {
      "cell_type": "code",
      "source": [
        "X = day5.drop(columns=['NO2'])\n",
        "y = day5['NO2']\n",
        "\n",
        "# Train-test split\n",
        "X_train, X_test, y_train, y_test = train_test_split(X, y, test_size=0.2, random_state=42)\n",
        "\n",
        "# Normalization\n",
        "scaler = StandardScaler()\n",
        "X_train_scaled = scaler.fit_transform(X_train)\n",
        "X_test_scaled = scaler.transform(X_test)\n",
        "\n",
        "# KNN Regression\n",
        "knn = KNeighborsRegressor(n_neighbors=12)\n",
        "knn.fit(X_train_scaled, y_train)\n",
        "day5_predict = knn.predict(X_test_scaled)\n",
        "r2_day5 = r2_score(y_test, day5_predict)\n",
        "mse_day5 = mean_squared_error(y_test, day5_predict)\n",
        "mae_day5 = mean_absolute_error(y_test, day5_predict)\n",
        "\n",
        "print(\"MSE:\", mse_day5)\n",
        "print(\"MAE:\", mae_day5)\n",
        "print(\"R2:\", r2_day5)"
      ],
      "metadata": {
        "colab": {
          "base_uri": "https://localhost:8080/"
        },
        "id": "gtgHeEOWczTz",
        "outputId": "1e4448a4-9786-40ee-e169-7bcee2af9b8a"
      },
      "execution_count": 7,
      "outputs": [
        {
          "output_type": "stream",
          "name": "stdout",
          "text": [
            "MSE: 2.8740548720615172e-11\n",
            "MAE: 3.6597007999290866e-06\n",
            "R2: 0.4601458213008941\n"
          ]
        }
      ]
    },
    {
      "cell_type": "code",
      "source": [
        "import matplotlib.pyplot as plt\n",
        "\n",
        "x = ['1 hari', '2 hari', '3 hari', '4 hari', '5 hari']\n",
        "y = [r2_day1, r2_day2, r2_day3, r2_day4, r2_day5]\n",
        "\n",
        "colors = ['#E74C3C', '#F39C12', '#F1C40F', '#27AE60']\n",
        "bars = plt.bar(x, y, color=colors, edgecolor='black', linewidth=1)\n",
        "\n",
        "for i, bar in enumerate(bars):\n",
        "    height = bar.get_height()\n",
        "    plt.text(bar.get_x() + bar.get_width()/2., height + 0.005,\n",
        "             f'{y[i]:.3f}', ha='center', va='bottom',\n",
        "             fontweight='bold', fontsize=10)\n",
        "\n",
        "plt.title('R-squared Values for Different Days', fontsize=16, fontweight='bold', pad=20)\n",
        "plt.xlabel('Jumlah Hari', fontsize=12, fontweight='bold')\n",
        "plt.ylabel('R-squared Score', fontsize=12, fontweight='bold')\n",
        "plt.ylim(0, max(y) + 0.05)\n",
        "plt.grid(True, alpha=0.3, linestyle='--')\n",
        "plt.tight_layout()\n",
        "plt.show()"
      ],
      "metadata": {
        "colab": {
          "base_uri": "https://localhost:8080/",
          "height": 466
        },
        "id": "UtMzvvKRc1B7",
        "outputId": "c41f9d83-33be-4e7c-ea19-b139c34e3390"
      },
      "execution_count": 8,
      "outputs": [
        {
          "output_type": "display_data",
          "data": {
            "text/plain": [
              "<Figure size 640x480 with 1 Axes>"
            ],
            "image/png": "[encoded data removed]"
          },
          "metadata": {}
        }
      ]
    },
    {
      "cell_type": "code",
      "source": [
        "# Tampilkan summary\n",
        "print(\"\\n=== SUMMARY HASIL EKSPERIMEN ===\")\n",
        "for i, lag in enumerate(['1', '2', '3', '4', '5']):\n",
        "    print(f\"Lag {lag} hari: R² = {y[i]:.3f}\")\n",
        "\n",
        "best_lag = x[y.index(max(y))]\n",
        "print(f\"\\nModel terbaik: {best_lag} dengan R² = {max(y):.3f}\")"
      ],
      "metadata": {
        "colab": {
          "base_uri": "https://localhost:8080/"
        },
        "id": "ob4b6Avdc4ZU",
        "outputId": "a3611040-59ab-4d4a-c1f0-ef72faaf9a22"
      },
      "execution_count": 9,
      "outputs": [
        {
          "output_type": "stream",
          "name": "stdout",
          "text": [
            "\n",
            "=== SUMMARY HASIL EKSPERIMEN ===\n",
            "Lag 1 hari: R² = 0.624\n",
            "Lag 2 hari: R² = 0.565\n",
            "Lag 3 hari: R² = 0.438\n",
            "Lag 4 hari: R² = 0.372\n",
            "Lag 5 hari: R² = 0.460\n",
            "\n",
            "Model terbaik: 1 hari dengan R² = 0.624\n"
          ]
        }
      ]
    },
    {
      "cell_type": "markdown",
      "source": [
        "**KNN Regression Data (NO₂ Kabupaten Banyuwangi)**\n",
        "\n",
        "K-Nearest Neighbors (KNN) Regression merupakan metode machine learning yang digunakan untuk melakukan prediksi berdasarkan kemiripan antara data baru dan data historis yang ada. Dalam proses prediksi, algoritma KNN mencari K titik data terdekat (tetangga terdekat) dalam data latih, kemudian menghitung rata-rata nilai target dari tetangga-tetangga tersebut untuk dijadikan hasil prediksi.\n",
        "\n",
        "Pada kasus prediksi kadar NO₂ di Kabupaten Banyuwangi, nilai lag (misalnya NO₂ satu hingga lima hari sebelumnya) digunakan sebagai fitur yang mewakili kondisi historis. KNN akan mencari periode masa lalu yang memiliki pola lag serupa, lalu memperkirakan kadar NO₂ hari berikutnya berdasarkan rata-rata kadar NO₂ pada periode-periode yang mirip tersebut.\n",
        "\n",
        "***Mengapa Nilai R-Squared Rendah pada Eksperimen?***\n",
        "\n",
        "Hasil eksperimen menunjukkan bahwa nilai R-Squared (R²) bervariasi antara 0.372 hingga 0.624, dengan model terbaik pada lag 1 hari (R² = 0.624). Nilai R² yang bervariasi ini menunjukkan bahwa meskipun model dengan lag 1 hari memberikan hasil yang cukup baik, variasi kadar NO₂ pada hari ini masih belum sepenuhnya dapat dijelaskan hanya dengan data NO₂ pada beberapa hari sebelumnya.\n",
        "\n",
        "Fenomena ini dapat dimengerti, karena variabel lingkungan lain yang tidak termasuk dalam model, seperti suhu, kecepatan angin, curah hujan, dan aktivitas kendaraan, sangat mempengaruhi penyebaran dan konsentrasi NO₂. Oleh karena itu, KNN hanya mengandalkan pola serupa dari masa lalu menggunakan informasi yang terbatas, yang mengakibatkan model tidak dapat sepenuhnya menggambarkan perubahan kadar NO₂ yang terjadi."
      ],
      "metadata": {
        "id": "Nve_Jm9qdhpT"
      }
    },
    {
      "cell_type": "code",
      "source": [
        "def predict_next_day(model, scaler, feature_values):\n",
        "    \"\"\"\n",
        "    Prediksi nilai NO2 hari berikutnya dengan input yang benar\n",
        "    \"\"\"\n",
        "    import numpy as np\n",
        "\n",
        "    # Reshape input untuk prediksi\n",
        "    input_data = np.array(feature_values).reshape(1, -1)\n",
        "\n",
        "    # Normalisasi input\n",
        "    input_scaled = scaler.transform(input_data)\n",
        "\n",
        "    # Prediksi\n",
        "    prediction = model.predict(input_scaled)[0]\n",
        "\n",
        "    return prediction\n",
        "\n",
        "def predict_all_models():\n",
        "    \"\"\"\n",
        "    Prediksi menggunakan semua model lag - VERSI YANG DIPERBAIKI\n",
        "    \"\"\"\n",
        "\n",
        "    models_data = [\n",
        "        (day1, 1, \"LAG 1 HARI\"),\n",
        "        (day2, 2, \"LAG 2 HARI\"),\n",
        "        (day3, 3, \"LAG 3 HARI\"),\n",
        "        (day4, 4, \"LAG 4 HARI\"),\n",
        "        (day5, 5, \"LAG 5 HARI\")\n",
        "    ]\n",
        "\n",
        "    predictions = {}\n",
        "\n",
        "    for data, lag, name in models_data:\n",
        "        print(f\"\\n=== {name} ===\")\n",
        "        print(f\"Dataset shape: {data.shape}\")\n",
        "        print(f\"Columns: {data.columns.tolist()}\")\n",
        "\n",
        "        # Prepare data\n",
        "        X = data.drop(columns=['NO2'])\n",
        "        y = data['NO2']\n",
        "\n",
        "        print(f\"Features: {X.columns.tolist()}\")\n",
        "\n",
        "        scaler = StandardScaler()\n",
        "        X_scaled = scaler.fit_transform(X)\n",
        "\n",
        "        knn = KNeighborsRegressor(n_neighbors=12)\n",
        "        knn.fit(X_scaled, y)\n",
        "\n",
        "        # Ambil feature values dari baris terakhir\n",
        "        last_row_features = X.iloc[-1].values\n",
        "        print(f\"Last row features: {[f'{v:.6f}' for v in last_row_features]}\")\n",
        "\n",
        "        print(f\"Feature columns dan nilai terakhir:\")\n",
        "        for i, col in enumerate(X.columns):\n",
        "            print(f\"  {col}: {last_row_features[i]:.6f}\")\n",
        "\n",
        "        # Prediksi\n",
        "        prediction = predict_next_day(knn, scaler, last_row_features)\n",
        "        predictions[name] = prediction\n",
        "\n",
        "        print(f\"Prediksi hari berikutnya: {prediction:.6f}\")\n",
        "\n",
        "    return predictions\n",
        "\n",
        "# Jalankan prediksi yang sudah diperbaiki\n",
        "print(\"PREDIKSI NO₂ HARI BERIKUTNYA\")\n",
        "print(\"=\" * 60)\n",
        "\n",
        "corrected_predictions = predict_all_models()\n",
        "\n",
        "# Summary prediksi\n",
        "print(\"\\n\" + \"=\"*60)\n",
        "print(\"SUMMARY PREDIKSI SEMUA MODEL\")\n",
        "print(\"=\"*60)\n",
        "for model_name, prediction in corrected_predictions.items():\n",
        "    print(f\"{model_name}: {prediction:.6f} mol/m²\")"
      ],
      "metadata": {
        "colab": {
          "base_uri": "https://localhost:8080/"
        },
        "id": "kvkKkXT_dBET",
        "outputId": "69500a37-fe01-4b76-9ff6-2e9a4ac6f097"
      },
      "execution_count": 10,
      "outputs": [
        {
          "output_type": "stream",
          "name": "stdout",
          "text": [
            "PREDIKSI NO₂ HARI BERIKUTNYA\n",
            "============================================================\n",
            "\n",
            "=== LAG 1 HARI ===\n",
            "Dataset shape: (272, 2)\n",
            "Columns: ['NO2', 't-1']\n",
            "Features: ['t-1']\n",
            "Last row features: ['0.000024']\n",
            "Feature columns dan nilai terakhir:\n",
            "  t-1: 0.000024\n",
            "Prediksi hari berikutnya: 0.000024\n",
            "\n",
            "=== LAG 2 HARI ===\n",
            "Dataset shape: (272, 3)\n",
            "Columns: ['NO2', 't-1', 't-2']\n",
            "Features: ['t-1', 't-2']\n",
            "Last row features: ['0.000024', '0.000025']\n",
            "Feature columns dan nilai terakhir:\n",
            "  t-1: 0.000024\n",
            "  t-2: 0.000025\n",
            "Prediksi hari berikutnya: 0.000024\n",
            "\n",
            "=== LAG 3 HARI ===\n",
            "Dataset shape: (271, 4)\n",
            "Columns: ['NO2', 't-1', 't-2', 't-3']\n",
            "Features: ['t-1', 't-2', 't-3']\n",
            "Last row features: ['0.000024', '0.000025', '0.000026']\n",
            "Feature columns dan nilai terakhir:\n",
            "  t-1: 0.000024\n",
            "  t-2: 0.000025\n",
            "  t-3: 0.000026\n",
            "Prediksi hari berikutnya: 0.000024\n",
            "\n",
            "=== LAG 4 HARI ===\n",
            "Dataset shape: (270, 5)\n",
            "Columns: ['NO2', 't-1', 't-2', 't-3', 't-4']\n",
            "Features: ['t-1', 't-2', 't-3', 't-4']\n",
            "Last row features: ['0.000024', '0.000025', '0.000026', '0.000026']\n",
            "Feature columns dan nilai terakhir:\n",
            "  t-1: 0.000024\n",
            "  t-2: 0.000025\n",
            "  t-3: 0.000026\n",
            "  t-4: 0.000026\n",
            "Prediksi hari berikutnya: 0.000023\n",
            "\n",
            "=== LAG 5 HARI ===\n",
            "Dataset shape: (269, 6)\n",
            "Columns: ['NO2', 't-1', 't-2', 't-3', 't-4', 't-5']\n",
            "Features: ['t-1', 't-2', 't-3', 't-4', 't-5']\n",
            "Last row features: ['0.000024', '0.000025', '0.000026', '0.000026', '0.000026']\n",
            "Feature columns dan nilai terakhir:\n",
            "  t-1: 0.000024\n",
            "  t-2: 0.000025\n",
            "  t-3: 0.000026\n",
            "  t-4: 0.000026\n",
            "  t-5: 0.000026\n",
            "Prediksi hari berikutnya: 0.000022\n",
            "\n",
            "============================================================\n",
            "SUMMARY PREDIKSI SEMUA MODEL\n",
            "============================================================\n",
            "LAG 1 HARI: 0.000024 mol/m²\n",
            "LAG 2 HARI: 0.000024 mol/m²\n",
            "LAG 3 HARI: 0.000024 mol/m²\n",
            "LAG 4 HARI: 0.000023 mol/m²\n",
            "LAG 5 HARI: 0.000022 mol/m²\n"
          ]
        },
        {
          "output_type": "stream",
          "name": "stderr",
          "text": [
            "/usr/local/lib/python3.12/dist-packages/sklearn/utils/validation.py:2739: UserWarning: X does not have valid feature names, but StandardScaler was fitted with feature names\n",
            "  warnings.warn(\n",
            "/usr/local/lib/python3.12/dist-packages/sklearn/utils/validation.py:2739: UserWarning: X does not have valid feature names, but StandardScaler was fitted with feature names\n",
            "  warnings.warn(\n",
            "/usr/local/lib/python3.12/dist-packages/sklearn/utils/validation.py:2739: UserWarning: X does not have valid feature names, but StandardScaler was fitted with feature names\n",
            "  warnings.warn(\n",
            "/usr/local/lib/python3.12/dist-packages/sklearn/utils/validation.py:2739: UserWarning: X does not have valid feature names, but StandardScaler was fitted with feature names\n",
            "  warnings.warn(\n",
            "/usr/local/lib/python3.12/dist-packages/sklearn/utils/validation.py:2739: UserWarning: X does not have valid feature names, but StandardScaler was fitted with feature names\n",
            "  warnings.warn(\n"
          ]
        }
      ]
    }
  ]
}