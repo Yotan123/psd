{
  "nbformat": 4,
  "nbformat_minor": 0,
  "metadata": {
    "colab": {
      "provenance": []
    },
    "kernelspec": {
      "name": "python3",
      "display_name": "Python 3"
    },
    "language_info": {
      "name": "python"
    }
  },
  "cells": [
    {
      "cell_type": "markdown",
      "source": [
        "## Business Understanding (Kadar Nitrogen dioksida(NO2) di Banyuwangi)"
      ],
      "metadata": {
        "id": "VSrgZqhLMJvE"
      }
    },
    {
      "cell_type": "markdown",
      "source": [
        "1. Latar Belakang\n",
        "\n",
        "Banyuwangi, sebagai salah satu kabupaten di Jawa Timur, menghadapi permasalahan kualitas udara yang perlu perhatian khusus, terutama terkait dengan kadar polutan seperti Nitrogen Dioksida (NO₂). Kadar NO₂ yang tinggi dapat berdampak negatif pada kesehatan masyarakat, terutama pada kelompok rentan seperti anak-anak, lansia, dan individu dengan masalah pernapasan. Sebagai kawasan yang terus berkembang, baik dari sektor industri maupun pariwisata, penting untuk memantau dan memahami tingkat polusi udara yang ada. Oleh karena itu, penelitian mengenai kadar NO₂ di Banyuwangi sangat diperlukan untuk memberikan gambaran yang lebih jelas mengenai situasi ini."
      ],
      "metadata": {
        "id": "qGUZoXrRMcqc"
      }
    },
    {
      "cell_type": "markdown",
      "source": [
        "2. Business Problem\n",
        "\n",
        "Masalah utama yang dihadapi adalah ketidakpastian terkait dengan kadar Nitrogen Dioksida (NO₂) di berbagai wilayah Banyuwangi, yang dapat mempengaruhi kesehatan masyarakat. Tanpa data yang jelas dan analisis yang tepat, sulit bagi pemerintah dan pihak terkait untuk mengambil keputusan yang efektif untuk mengurangi polusi udara. Selain itu, kurangnya pemahaman tentang pola pergerakan NO₂ di Banyuwangi menyulitkan pengembangan kebijakan yang dapat meminimalkan dampaknya terhadap kesehatan masyarakat dan lingkungan."
      ],
      "metadata": {
        "id": "wIgISExlOErL"
      }
    },
    {
      "cell_type": "markdown",
      "source": [
        "3. Tujuan Analisis\n",
        "\n",
        "Tujuan utama dari analisis ini adalah untuk memetakan kadar NO₂ di Banyuwangi, mengidentifikasi faktor-faktor yang mempengaruhi kadar polutan tersebut, serta menganalisis hubungan antara tingkat polusi udara dengan dampaknya terhadap kesehatan masyarakat. Dengan tujuan tersebut, penelitian ini diharapkan dapat memberikan informasi yang berguna untuk pengambilan kebijakan terkait pengendalian polusi udara, serta rekomendasi untuk pengurangan polusi dan perlindungan kesehatan masyarakat."
      ],
      "metadata": {
        "id": "oHzoL7jdOJzr"
      }
    },
    {
      "cell_type": "markdown",
      "source": [
        "4. Manfaat Bisnis\n",
        "\n",
        "Manfaat bisnis dari penelitian ini sangat besar, terutama dalam pengambilan kebijakan yang berbasis data. Pemerintah Banyuwangi dan lembaga terkait akan memiliki pemahaman yang lebih mendalam tentang tingkat polusi udara dan dampaknya terhadap masyarakat. Selain itu, hasil penelitian ini dapat membantu merancang kebijakan yang lebih efektif untuk mengurangi emisi polutan, meningkatkan kualitas udara, serta menjaga kesehatan publik. Di sisi lain, masyarakat juga akan memperoleh manfaat melalui peningkatan kesadaran tentang pentingnya menjaga kualitas udara yang lebih bersih."
      ],
      "metadata": {
        "id": "bYAfo9nZOS2k"
      }
    },
    {
      "cell_type": "markdown",
      "source": [
        "5. Ruang Lingkup Proyek\n",
        "\n",
        "Ruang lingkup proyek ini meliputi pengumpulan dan analisis data mengenai kadar NO₂ di berbagai titik pemantauan yang tersebar di wilayah Banyuwangi. Penelitian ini akan mencakup pengumpulan data historis tentang kualitas udara, faktor-faktor yang mempengaruhi kualitas udara seperti cuaca, serta analisis dampak kesehatan yang dapat dihubungkan dengan kadar NO₂. Ruang lingkup ini juga akan mencakup pemodelan dan analisis tren, untuk memetakan daerah-daerah dengan kadar NO₂ tinggi dan mengidentifikasi pola serta faktor penyebabnya.\n",
        "\n",
        "### Tahapan pengerjaan\n",
        "\n",
        "1. Mengumpulkan data dan dijadikan CSV\n",
        "2. Memprosessing data jika ada missing values  dengan interpolasi\n",
        "3. MEmbentuk data supervised\n",
        "4. Melakukan normalisai data (min-max atau zscore (standar scale di sklearn))\n",
        "5. Memebuat model dengan K-NN regression\n",
        "    - Melakukan experiment dengan beberapa fitur (menentukan berapa lag data : berkaitan dengan no 3)\n"
      ],
      "metadata": {
        "id": "tCskdKZmOYAD"
      }
    }
  ]
}